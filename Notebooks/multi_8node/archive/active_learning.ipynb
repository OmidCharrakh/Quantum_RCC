{
 "cells": [
  {
   "cell_type": "code",
   "execution_count": 1,
   "id": "3429291d",
   "metadata": {},
   "outputs": [],
   "source": [
    "import sys; sys.path.append('/Users/omid/Documents/GitHub/Causality/Quantum_RCC/Scripts')\n",
    "import numpy as np; np.set_printoptions(precision=3, suppress=True) \n",
    "import torch as th; import torch; from torch.utils.data import DataLoader; import torch.nn as nn; import torch.nn.functional as F\n",
    "import pandas as pd; import networkx as nx\n",
    "import matplotlib.pyplot as plt; import seaborn as sns; sns.set()\n",
    "%matplotlib inline\n",
    "from pathlib import Path; import itertools; import os; import random; import time; import copy\n",
    "import sklearn; from sklearn.model_selection import train_test_split; from sklearn.ensemble import RandomForestClassifier; from sklearn.neural_network import MLPClassifier\n",
    "import scipy \n",
    "import ast\n",
    "import modAL\n",
    "import IPython\n",
    "\n",
    "import rcc_functions as rcc\n",
    "import utilities_functions as uFun\n",
    "import channel_functions as chFun\n",
    "import distance_functions as dFun\n",
    "import activeLearning_functions as alFun\n"
   ]
  },
  {
   "cell_type": "code",
   "execution_count": 2,
   "id": "c737b78e",
   "metadata": {},
   "outputs": [],
   "source": [
    "split_subsets= ['train', 'valid', 'test']\n",
    "scenarios    = ['bi_ce', 'bi_ceccin', 'multi_base', 'multi_8node']\n",
    "scenario     = 'multi_8node'"
   ]
  },
  {
   "cell_type": "markdown",
   "id": "5b7381cb",
   "metadata": {},
   "source": [
    "### Build Featurizer"
   ]
  },
  {
   "cell_type": "code",
   "execution_count": 4,
   "id": "81c09092",
   "metadata": {},
   "outputs": [],
   "source": [
    "n_RandComps=50; data_dim=3; scales = list(np.logspace(-1.2, +1.2, 5, True))\n",
    "#featurizer_obj=rcc.featurizer(n_RandComps=n_RandComps, scales=scales, data_dim=data_dim)\n",
    "#uFun.object_saver(featurizer_obj, uFun.get_path('featurizer', None, scenario))\n",
    "\n",
    "featurizer_obj = uFun.object_loader(uFun.get_path('featurizer', None, scenario))"
   ]
  },
  {
   "cell_type": "markdown",
   "id": "6087e8e9",
   "metadata": {},
   "source": [
    "### Apply the Featurizer to the Channel Data"
   ]
  },
  {
   "cell_type": "code",
   "execution_count": 5,
   "id": "15f51608",
   "metadata": {},
   "outputs": [],
   "source": [
    "scenario = 'multi_3node'\n",
    "for index_set, subset in enumerate(split_subsets):\n",
    "    kme_container = rcc.kme_featurizer(\n",
    "        ch_container_path = uFun.get_path('ch_container', subset, scenario), \n",
    "        featurizer_obj    = featurizer_obj, \n",
    "        scenario          = scenario, \n",
    "        quad_labeling     = True,\n",
    "        saving_path       = uFun.get_path('kme_container', subset, scenario))\n",
    "\n",
    "scenario = 'multi_8node'\n",
    "for index_set, subset in enumerate(split_subsets):\n",
    "    kme_container = rcc.kme_featurizer(\n",
    "        ch_container_path = uFun.get_path('ch_container', subset, scenario), \n",
    "        featurizer_obj    = featurizer_obj, \n",
    "        scenario          = scenario, \n",
    "        quad_labeling     = True,\n",
    "        saving_path       = uFun.get_path('kme_container', subset, scenario))\n",
    "    \n",
    "scenario = 'multi_8node'\n",
    "for index_set, subset in enumerate(split_subsets):\n",
    "    kme_container = rcc.kme_featurizer(\n",
    "        ch_container_path = uFun.get_path('sim_ch_container', subset, scenario), \n",
    "        featurizer_obj    = featurizer_obj, \n",
    "        scenario          = scenario, \n",
    "        quad_labeling     = True,\n",
    "        saving_path       = uFun.get_path('sim_kme_container', subset, scenario))\n",
    "IPython.display.clear_output()"
   ]
  },
  {
   "cell_type": "markdown",
   "id": "21404b75",
   "metadata": {},
   "source": [
    "### Read KME datasets"
   ]
  },
  {
   "cell_type": "code",
   "execution_count": 7,
   "id": "fb5a0d97",
   "metadata": {},
   "outputs": [
    {
     "name": "stdout",
     "output_type": "stream",
     "text": [
      "df_org_s0=(3000, 752), df_org_s1=(3000, 752), df_org_s2=(3000, 752)\n"
     ]
    }
   ],
   "source": [
    "scenario = 'multi_3node'\n",
    "return_unique = False\n",
    "df_org_s0 = rcc.container_to_df(uFun.get_path('kme_container', 'train', scenario), scenario, return_unique=return_unique)\n",
    "df_org_s1 = rcc.container_to_df(uFun.get_path('kme_container', 'valid', scenario), scenario, return_unique=return_unique)\n",
    "df_org_s2 = rcc.container_to_df(uFun.get_path('kme_container', 'test' , scenario), scenario, return_unique=return_unique)\n",
    "print('df_org_s0={}, df_org_s1={}, df_org_s2={}'.format(df_org_s0.shape, df_org_s1.shape, df_org_s2.shape))"
   ]
  },
  {
   "cell_type": "code",
   "execution_count": 8,
   "id": "b55d097f",
   "metadata": {},
   "outputs": [
    {
     "name": "stdout",
     "output_type": "stream",
     "text": [
      "df_org_t0=(25536, 752), df_org_t1=(10080, 752), df_org_t2=(15456, 752)\n",
      "df_sim_t0=(25536, 752), df_sim_t1=(10080, 752), df_sim_t2=(15456, 752)\n"
     ]
    }
   ],
   "source": [
    "scenario = 'multi_8node'\n",
    "return_unique = True\n",
    "df_org_t0 = rcc.container_to_df(uFun.get_path('kme_container', 'train', scenario), scenario, return_unique=return_unique)\n",
    "df_org_t1 = rcc.container_to_df(uFun.get_path('kme_container', 'valid', scenario), scenario, return_unique=return_unique)\n",
    "df_org_t2 = rcc.container_to_df(uFun.get_path('kme_container', 'test' , scenario),  scenario, return_unique=return_unique)\n",
    "print('df_org_t0={}, df_org_t1={}, df_org_t2={}'.format(df_org_t0.shape, df_org_t1.shape, df_org_t2.shape))\n",
    "\n",
    "df_sim_t0 = rcc.container_to_df(uFun.get_path('sim_kme_container', 'train', scenario), scenario, return_unique=return_unique)\n",
    "df_sim_t1 = rcc.container_to_df(uFun.get_path('sim_kme_container', 'valid', scenario), scenario, return_unique=return_unique)\n",
    "df_sim_t2 = rcc.container_to_df(uFun.get_path('sim_kme_container', 'test' , scenario), scenario, return_unique=return_unique)\n",
    "print('df_sim_t0={}, df_sim_t1={}, df_sim_t2={}'.format(df_sim_t0.shape, df_sim_t1.shape, df_sim_t2.shape))"
   ]
  },
  {
   "cell_type": "markdown",
   "id": "aecffc1b",
   "metadata": {},
   "source": [
    "### Build pool from the sim & org KME datasets "
   ]
  },
  {
   "cell_type": "code",
   "execution_count": 48,
   "id": "a0805002",
   "metadata": {},
   "outputs": [
    {
     "name": "stdout",
     "output_type": "stream",
     "text": [
      "[8184, 948, 948]\n",
      "[12552, 1452, 1452]\n",
      "[200, 200, 200]\n",
      "[1333, 1333, 1333]\n",
      "[933, 933, 933]\n",
      "[1333, 1333, 1333]\n",
      "[1333, 1333, 1333]\n",
      "df_valid=10080, df_initial=600, df_pool=14796\n"
     ]
    }
   ],
   "source": [
    "target_column=1; class_weights=[1,1,1]\n",
    "\n",
    "df_valid  = uFun.weighted_sampler(df_org_t1, -1)[0]\n",
    "df_test   = uFun.weighted_sampler(df_org_t2, -1)[0]\n",
    "X_valid   = df_valid.iloc[:, 2:].values; y_valid = df_valid.iloc[:, target_column].values\n",
    "X_test    = df_test.iloc [:, 2:].values; y_test  = df_test.iloc [:, target_column].values\n",
    "\n",
    "\n",
    "df_initial = uFun.weighted_sampler(\n",
    "    #df_org_s1, 600, \n",
    "    df_sim_t1, 600,\n",
    "    class_weights, \n",
    "    target_column)[0]\n",
    "\n",
    "\n",
    "df_pool = alFun.build_pool(\n",
    "    class_weights=class_weights, \n",
    "    target_column=target_column, \n",
    "    source_0 = (df_sim_t0, 4000), \n",
    "    source_1 = (df_sim_t1, 2800), \n",
    "    source_2 = (df_sim_t2, 4000),    \n",
    "    #source_3 = (df_org_s0, 2000), \n",
    "    source_4 = (df_org_t0, 4000),\n",
    ")\n",
    "\n",
    "print('df_valid={}, df_initial={}, df_pool={}'.format(len(df_valid), len(df_initial), len(df_pool)))"
   ]
  },
  {
   "cell_type": "markdown",
   "id": "cafb807d",
   "metadata": {},
   "source": [
    "### Define an Active Learner and Apply it to the pool"
   ]
  },
  {
   "cell_type": "code",
   "execution_count": 49,
   "id": "5cb1e5ff",
   "metadata": {},
   "outputs": [
    {
     "data": {
      "image/png": "[encoded data removed]",
      "text/plain": [
       "<Figure size 1080x360 with 3 Axes>"
      ]
     },
     "metadata": {},
     "output_type": "display_data"
    },
    {
     "name": "stdout",
     "output_type": "stream",
     "text": [
      "[[0.852 0.075 0.073]\n",
      " [0.018 0.976 0.006]\n",
      " [0.007 0.011 0.982]]\n",
      "\n",
      "queries_trend {0: 0.44882352941176473, 1: 0.2732352941176471, 2: 0.27794117647058825}\n"
     ]
    }
   ],
   "source": [
    "early_stopper=uFun.EarlyStopping(patience=20, checkpoint_path=uFun.get_path('AL_checkpoint', None, scenario), minimize_score=False, objective='recall')#'recall', 'accuracy' \n",
    "\n",
    "estimator = RandomForestClassifier(n_estimators=100, n_jobs=-1)\n",
    "\n",
    "#estimator = MLPClassifier(hidden_layer_sizes=(100),  activation='tanh', early_stopping=True, max_iter=300)\n",
    "\n",
    "\n",
    "learner = modAL.models.ActiveLearner(estimator=estimator,\n",
    "    query_strategy=modAL.uncertainty.margin_sampling); #uncertainty_sampling, margin_sampling, entropy_sampling\n",
    "\n",
    "\n",
    "AL_result = alFun.fit_AL(\n",
    "    df_pool=df_pool, df_initial=df_initial, df_valid=df_valid,\n",
    "    learner = learner, early_stopper=early_stopper,\n",
    "    instances_perQuery=50, n_queries=100, target_column = target_column, \n",
    "    visualizer = uFun.Live_Visualizer('on'),\n",
    "    saving_path= uFun.get_path('AL_result', None, scenario))"
   ]
  },
  {
   "cell_type": "markdown",
   "id": "25430667",
   "metadata": {},
   "source": [
    "### Check the performance of the base estimator (AL's estimator) \n",
    "\n",
    "### 1. On the triple dataset \n",
    "\n",
    "### 2. On the whole test dataset"
   ]
  },
  {
   "cell_type": "code",
   "execution_count": 42,
   "id": "2b2186df",
   "metadata": {},
   "outputs": [
    {
     "name": "stdout",
     "output_type": "stream",
     "text": [
      "Shape of X_train: (7799, 750)\n",
      "\n",
      "clf_base Accuracy: 0.8676242236024845\n",
      "\n",
      "[[0.84  0.079 0.08 ]\n",
      " [0.008 0.988 0.004]\n",
      " [0.012 0.004 0.983]]\n"
     ]
    }
   ],
   "source": [
    "X_train, y_train = AL_result['dataset']\n",
    "print('Shape of X_train:', X_train.shape)\n",
    "\n",
    "clf_base = AL_result['estimator']\n",
    "accuracy, confusion, confusion_n = uFun.clf_report(y_test, clf_base.predict(X_test))\n",
    "print()\n",
    "print('clf_base Accuracy:', accuracy)\n",
    "print()\n",
    "print(confusion_n)\n",
    "\n",
    "\n",
    "df_base = uFun.clf_evaluator_meta(\n",
    "    kme_container = th.load(uFun.get_path('kme_container', 'test', scenario)), \n",
    "    clf           = clf_base, \n",
    "    n_DAGs        = -1,\n",
    "    percentile    = 90,\n",
    "    saving_path   = None)"
   ]
  },
  {
   "cell_type": "markdown",
   "id": "9390c359",
   "metadata": {},
   "source": [
    "\n",
    "0. Load the AL Dataset: \n",
    "1. Define a more complex clf (NN)  \n",
    "2. Tune  it!\n",
    "3. Train it!\n",
    "4. Save  it! => use it for post-processing! \n",
    "\n",
    "### Load the AL Dataset as the training set => df_valid, df_test remain the same "
   ]
  },
  {
   "cell_type": "code",
   "execution_count": null,
   "id": "24c9a292",
   "metadata": {},
   "outputs": [],
   "source": [
    "X_train, y_train = uFun.object_loader(AL_result_paths[scenario])['dataset']\n",
    "df_train = pd.DataFrame(np.hstack((y_train.reshape(-1,1), y_train.reshape(-1,1), X_train)))\n",
    "\n",
    "target_column = 1\n",
    "return_unique = True\n",
    "df_valid = rcc.container_to_df(uFun.get_path('kme_container', 'valid', scenario), scenario, return_unique=return_unique)\n",
    "df_test  = rcc.container_to_df(uFun.get_path('kme_container', 'test', scenario),  scenario, return_unique=return_unique)\n",
    "X_valid  = df_test.iloc [:, 2:].values; y_valid = df_valid.iloc[:, target_column].values\n",
    "X_test   = df_test.iloc [:, 2:].values; y_test  = df_test.iloc [:, target_column].values\n",
    "print('df_train={}, df_valid={}, df_test={}'.format(df_train.shape, df_valid.shape, df_test.shape))"
   ]
  },
  {
   "cell_type": "code",
   "execution_count": 44,
   "id": "1808ef6c",
   "metadata": {
    "scrolled": true
   },
   "outputs": [
    {
     "name": "stdout",
     "output_type": "stream",
     "text": [
      "\n",
      "clf_mlp Accuracy: 0.8956392339544513\n",
      "[[0.884 0.061 0.055]\n",
      " [0.048 0.947 0.006]\n",
      " [0.052 0.003 0.944]]\n"
     ]
    }
   ],
   "source": [
    "clf = MLPClassifier(\n",
    "    hidden_layer_sizes=(300, 100),  \n",
    "    activation='tanh',\n",
    "    solver='adam', \n",
    "    learning_rate_init=1e-4,\n",
    "    validation_fraction=0.1, \n",
    "    #alpha=1e-2, \n",
    "    #batch_size = 50,\n",
    "    n_iter_no_change=30,\n",
    "    early_stopping=True,\n",
    "    max_iter=10, verbose=1).fit(X_train, y_train)\n",
    "\n",
    "IPython.display.clear_output(wait=True)\n",
    "accuracy, confusion, confusion_n = uFun.clf_report(y_test, clf.predict(X_test))\n",
    "print()\n",
    "print('clf_mlp Accuracy:', accuracy)\n",
    "print(confusion_n)\n",
    "uFun.object_saver(clf, uFun.get_path('classifier', None, scenario))"
   ]
  },
  {
   "cell_type": "code",
   "execution_count": 45,
   "id": "e1d65f45",
   "metadata": {},
   "outputs": [
    {
     "name": "stdout",
     "output_type": "stream",
     "text": [
      "Average wrong predictions on 46 DAGs => \n",
      "Raw (no post-processing): 2.717\n",
      "Percentile: 2.174\n"
     ]
    }
   ],
   "source": [
    "df_mlp = uFun.clf_evaluator_meta(\n",
    "    kme_container = th.load(uFun.get_path('kme_container', 'test', scenario)), \n",
    "    clf           = uFun.object_loader(uFun.get_path('classifier', None, scenario)), \n",
    "    n_DAGs        = -1,\n",
    "    percentile    = 89,\n",
    "    saving_path   = None)"
   ]
  },
  {
   "cell_type": "code",
   "execution_count": null,
   "id": "842f1ea9",
   "metadata": {},
   "outputs": [],
   "source": []
  }
 ],
 "metadata": {
  "kernelspec": {
   "display_name": "Python 3 (ipykernel)",
   "language": "python",
   "name": "python3"
  },
  "language_info": {
   "codemirror_mode": {
    "name": "ipython",
    "version": 3
   },
   "file_extension": ".py",
   "mimetype": "text/x-python",
   "name": "python",
   "nbconvert_exporter": "python",
   "pygments_lexer": "ipython3",
   "version": "3.9.13"
  }
 },
 "nbformat": 4,
 "nbformat_minor": 5
}
