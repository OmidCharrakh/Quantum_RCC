{
 "cells": [
  {
   "cell_type": "code",
   "execution_count": 1,
   "id": "eff62012",
   "metadata": {},
   "outputs": [],
   "source": [
    "import sys; sys.path.append('/Users/omid/Documents/GitHub/Causality/Quantum_RCC/Scripts')\n",
    "import numpy as np; np.set_printoptions(precision=3, suppress=True) \n",
    "import torch as th; import torch; from torch.utils.data import DataLoader; import torch.nn as nn; import torch.nn.functional as F\n",
    "import pandas as pd; import networkx as nx\n",
    "import matplotlib.pyplot as plt; import seaborn as sns; sns.set()\n",
    "from pathlib import Path; import itertools; import os; import random; import time; import copy\n",
    "import sklearn; from sklearn.model_selection import train_test_split; from sklearn.ensemble import RandomForestClassifier; from sklearn.neural_network import MLPClassifier\n",
    "import scipy\n",
    "import ast\n",
    "import IPython\n",
    "from sklearn.metrics import confusion_matrix\n",
    "\n",
    "import rcc_functions as rcc\n",
    "import utilities_functions as uFun\n",
    "import channel_functions as chFun\n",
    "import distance_functions as dFun\n",
    "import simulator_functions as simFun"
   ]
  },
  {
   "cell_type": "code",
   "execution_count": 2,
   "id": "704def31",
   "metadata": {},
   "outputs": [],
   "source": [
    "n_nodes = 8\n",
    "n_points = 500\n",
    "\n",
    "split_subsets = ['tr', 'va', 'te']\n",
    "scenario = 'multi_8node'"
   ]
  },
  {
   "cell_type": "code",
   "execution_count": 3,
   "id": "c5fb18c0",
   "metadata": {},
   "outputs": [],
   "source": [
    "#param_dict = generate_parameters(n_nodes)\n",
    "#uFun.save_as_pickle(param_dict, 'param_dict.pickle')\n",
    "param_dict = uFun.load_pickle(f'../../Data/ch_parameter/{scenario}/param_dict.pickle')"
   ]
  },
  {
   "cell_type": "markdown",
   "id": "f9eed3d0",
   "metadata": {},
   "source": [
    "### Generate Channel Data\n",
    "\n",
    "- 3-variate samples\n",
    "- 8-variate samples"
   ]
  },
  {
   "cell_type": "code",
   "execution_count": 4,
   "id": "cfa2f5d1",
   "metadata": {},
   "outputs": [],
   "source": [
    "adjacencies_base = [\n",
    "    th.tensor([[0, 0, 0], [0, 0, 0], [0, 0, 0]]), \n",
    "    th.tensor([[0, 1, 0], [0, 0, 0], [0, 0, 0]]), \n",
    "    th.tensor([[0, 1, 0], [0, 0, 1], [0, 0, 0]]), \n",
    "    th.tensor([[0, 1, 0], [0, 0, 0], [0, 1, 0]]), \n",
    "    th.tensor([[0, 0, 0], [1, 0, 1], [0, 0, 0]]), \n",
    "    th.tensor([[0, 1, 1], [0, 0, 1], [0, 0, 0]]), \n",
    "    th.tensor([[0, 1, 1], [0, 0, 0], [0, 1, 0]]), \n",
    "    th.tensor([[0, 0, 1], [1, 0, 1], [0, 0, 0]]),\n",
    "]\n",
    "\n",
    "##########################################################\n",
    "# ch org multibase (3-variate samples)\n",
    "##########################################################\n",
    "n_samples = 2688\n",
    "generator = chFun.genDataChannels(param_dict=param_dict)\n",
    "container_d = th.zeros((n_samples, n_points, 3*3), dtype=th.float32)\n",
    "container_a = th.zeros((n_samples, 3, 3), dtype=th.float32)\n",
    "index_sample = 0\n",
    "for i in range(n_nodes):\n",
    "    for j in range(n_nodes):\n",
    "        for k in range(n_nodes):\n",
    "            if (i-j)*(j-k)*(k-i):\n",
    "                for A_base in adjacencies_base:\n",
    "                    adjacency_matrix = uFun.embed_graph(i, j, k, A_base, n_nodes)\n",
    "                    #ch_data = simulator(n_points, adjacency_matrix).detach()\n",
    "                    ch_data = generator.generate(adjacency_matrix=adjacency_matrix.numpy(), numRuns=n_points)\n",
    "                    ch_data = th.concat((ch_data[:, 3*(i):3*(i+1)], ch_data[:, 3*(j):3*(j+1)], ch_data[:, 3*(k):3*(k+1)]), dim=1)\n",
    "                    container_d[index_sample] = ch_data\n",
    "                    container_a[index_sample] = A_base\n",
    "                    index_sample += 1\n",
    "                    print(index_sample)\n",
    "ch_container = (container_d, container_a)\n",
    "th.save(ch_container, f'../../Data/ch_container/{scenario}/org_ba.pt')\n",
    "\n",
    "\n",
    "##########################################################\n",
    "# ch org multi8node (8-variate samples)\n",
    "##########################################################\n",
    "generator = chFun.genDataChannels(param_dict=param_dict)\n",
    "for subset in split_subsets:\n",
    "    index_sample = 0\n",
    "    container_a = th.tensor(np.array([A.reshape(8,8) for A in np.loadtxt(f'../../Data/DAGs/{scenario}/{subset}.txt')]).astype(int))\n",
    "    n_samples = len(container_a)\n",
    "    container_d = th.zeros((n_samples, n_points, 3*8), dtype=th.float32)\n",
    "    for adjacency_matrix in container_a:\n",
    "        ch_data = generator.generate(adjacency_matrix=adjacency_matrix.numpy(), numRuns=n_points)\n",
    "        container_d[index_sample] = ch_data\n",
    "        index_sample += 1\n",
    "    ch_container = (container_d, container_a)\n",
    "    th.save(ch_container, f'../../Data/ch_container/{scenario}/org_{subset}.pt')\n"
   ]
  },
  {
   "cell_type": "markdown",
   "id": "25ed12fb",
   "metadata": {},
   "source": [
    "### Fit a generative model (simulator) \n",
    "\n",
    "- Train on the 3-variate samples\n",
    "- Validate on the training 8-variate samples "
   ]
  },
  {
   "cell_type": "code",
   "execution_count": 5,
   "id": "ed2ffdba",
   "metadata": {},
   "outputs": [
    {
     "data": {
      "text/plain": [
       "nn_simulator(\n",
       "  (criterion): MMDloss()\n",
       "  (blocks_list): ModuleList(\n",
       "    (0): NN_block(\n",
       "      (layers): Sequential(\n",
       "        (0): Linear(in_features=41, out_features=20, bias=True)\n",
       "        (1): ReLU()\n",
       "        (2): Linear(in_features=20, out_features=3, bias=True)\n",
       "      )\n",
       "    )\n",
       "    (1): NN_block(\n",
       "      (layers): Sequential(\n",
       "        (0): Linear(in_features=41, out_features=20, bias=True)\n",
       "        (1): ReLU()\n",
       "        (2): Linear(in_features=20, out_features=3, bias=True)\n",
       "      )\n",
       "    )\n",
       "    (2): NN_block(\n",
       "      (layers): Sequential(\n",
       "        (0): Linear(in_features=41, out_features=20, bias=True)\n",
       "        (1): ReLU()\n",
       "        (2): Linear(in_features=20, out_features=3, bias=True)\n",
       "      )\n",
       "    )\n",
       "    (3): NN_block(\n",
       "      (layers): Sequential(\n",
       "        (0): Linear(in_features=41, out_features=20, bias=True)\n",
       "        (1): ReLU()\n",
       "        (2): Linear(in_features=20, out_features=3, bias=True)\n",
       "      )\n",
       "    )\n",
       "    (4): NN_block(\n",
       "      (layers): Sequential(\n",
       "        (0): Linear(in_features=41, out_features=20, bias=True)\n",
       "        (1): ReLU()\n",
       "        (2): Linear(in_features=20, out_features=3, bias=True)\n",
       "      )\n",
       "    )\n",
       "    (5): NN_block(\n",
       "      (layers): Sequential(\n",
       "        (0): Linear(in_features=41, out_features=20, bias=True)\n",
       "        (1): ReLU()\n",
       "        (2): Linear(in_features=20, out_features=3, bias=True)\n",
       "      )\n",
       "    )\n",
       "    (6): NN_block(\n",
       "      (layers): Sequential(\n",
       "        (0): Linear(in_features=41, out_features=20, bias=True)\n",
       "        (1): ReLU()\n",
       "        (2): Linear(in_features=20, out_features=3, bias=True)\n",
       "      )\n",
       "    )\n",
       "    (7): NN_block(\n",
       "      (layers): Sequential(\n",
       "        (0): Linear(in_features=41, out_features=20, bias=True)\n",
       "        (1): ReLU()\n",
       "        (2): Linear(in_features=20, out_features=3, bias=True)\n",
       "      )\n",
       "    )\n",
       "  )\n",
       ")"
      ]
     },
     "execution_count": 5,
     "metadata": {},
     "output_type": "execute_result"
    }
   ],
   "source": [
    "simulator_path = f'../../Models/{scenario}/simulator_ijk'\n",
    "\n",
    "simulator = simFun.nn_simulator(\n",
    "    n_nodes=n_nodes, \n",
    "    batch_size=100, \n",
    "    n_epochs=1000,\n",
    "    lr=1e-4,\n",
    "    patience=100,\n",
    "    dim_noise=20,\n",
    ")\n",
    "simulator.reset_parameters()\n",
    "\n",
    "'''\n",
    "df_prog = simulator.fit_ijk(\n",
    "    data_tr=th.load(f'../../Data/ch_container/{scenario}/org_ba.pt'),\n",
    "    data_va=th.load(f'../../Data/ch_container/{scenario}/org_va.pt'),\n",
    "    list_ijk=uFun.get_list_ijk(n_nodes),\n",
    "    saving_path=simulator_path,\n",
    ")\n",
    "'''\n",
    "simulator.re_load(simulator_path)"
   ]
  },
  {
   "cell_type": "markdown",
   "id": "fe4584be",
   "metadata": {},
   "source": [
    "### Simulate Channel Data Using the Generative Model\n",
    "\n",
    "- 8-variate samples\n"
   ]
  },
  {
   "cell_type": "code",
   "execution_count": 6,
   "id": "ed692f8f",
   "metadata": {},
   "outputs": [],
   "source": [
    "##########################################################\n",
    "# ch sim multi8node (simulated 8-variate samples)\n",
    "##########################################################\n",
    "for subset in split_subsets:\n",
    "    index_sample = 0\n",
    "    container_a = th.tensor(np.array([A.reshape(8,8) for A in np.loadtxt(f'../../Data/DAGs/{scenario}/{subset}.txt')]).astype(int))\n",
    "    n_samples = len(container_a)\n",
    "    container_d = th.zeros((n_samples, n_points, 3*8), dtype=th.float32)\n",
    "    for adjacency_matrix in container_a:\n",
    "        ch_data = simulator(n_points, adjacency_matrix).detach()\n",
    "        container_d[index_sample] = ch_data\n",
    "        index_sample += 1\n",
    "    ch_container = (container_d, container_a)\n",
    "    th.save(ch_container, f'../../Data/ch_container/{scenario}/sim_{subset}.pt')\n"
   ]
  },
  {
   "cell_type": "markdown",
   "id": "fd6fbce1",
   "metadata": {},
   "source": [
    "### Build Featurizer\n",
    "A featuirizer object is used to compute the KME featurizer of given distributions"
   ]
  },
  {
   "cell_type": "code",
   "execution_count": 7,
   "id": "82cf1ec8",
   "metadata": {},
   "outputs": [],
   "source": [
    "n_RandComps=50; data_dim=3; scales = list(np.logspace(-1.2, +1.2, 5, True))\n",
    "featurizer_obj = rcc.featurizer(n_RandComps=n_RandComps, scales=scales, data_dim=data_dim)\n",
    "#uFun.object_saver(featurizer_obj, 'featurizer')\n",
    "featurizer_obj = uFun.object_loader(f'../../Models/{scenario}/kme_featurizer.pkl')"
   ]
  },
  {
   "cell_type": "markdown",
   "id": "b2a733ba",
   "metadata": {},
   "source": [
    "### Apply the Featurizer to Channel Data\n",
    "\n",
    "- Convert all `ch_container` into `kme_container`"
   ]
  },
  {
   "cell_type": "code",
   "execution_count": 8,
   "id": "3236d4f1",
   "metadata": {},
   "outputs": [],
   "source": [
    "##########################################################\n",
    "# kme org multibase (original 3-variate samples)\n",
    "##########################################################\n",
    "kme_container = rcc.kme_featurizer(\n",
    "    ch_container_path = f'../../Data/ch_container/{scenario}/org_ba.pt', \n",
    "    featurizer_obj    = featurizer_obj, \n",
    "    scenario          = 'multi_base', \n",
    "    quad_labeling     = True,\n",
    "    saving_path       = f'../../Data/kme_container/{scenario}/org_ba.pt',\n",
    ")\n",
    "\n",
    "##########################################################\n",
    "# kme org multi8node (original 8-variate samples)\n",
    "##########################################################\n",
    "for index_set, subset in enumerate(split_subsets):\n",
    "    kme_container = rcc.kme_featurizer(\n",
    "        ch_container_path = f'../../Data/ch_container/{scenario}/org_{subset}.pt', \n",
    "        featurizer_obj    = featurizer_obj, \n",
    "        scenario          = 'multi_8node', \n",
    "        quad_labeling     = True,\n",
    "        saving_path       = f'../../Data/kme_container/{scenario}/org_{subset}.pt',\n",
    "    )\n",
    "\n",
    "##########################################################\n",
    "# kme sim multi8node (simulated 3-variate samples)\n",
    "##########################################################\n",
    "for index_set, subset in enumerate(split_subsets):\n",
    "    kme_container = rcc.kme_featurizer(\n",
    "        ch_container_path = f'../../Data/ch_container/{scenario}/sim_{subset}.pt', \n",
    "        featurizer_obj    = featurizer_obj, \n",
    "        scenario          = 'multi_8node', \n",
    "        quad_labeling     = True,\n",
    "        saving_path       = f'../../Data/kme_container/{scenario}/sim_{subset}.pt',\n",
    "    )"
   ]
  },
  {
   "cell_type": "markdown",
   "id": "9bd6024c",
   "metadata": {},
   "source": [
    "### Read KME Datasets"
   ]
  },
  {
   "cell_type": "code",
   "execution_count": 9,
   "id": "f7cba6c4",
   "metadata": {},
   "outputs": [],
   "source": [
    "convert_dict = {1:0, 2:1, 0:2}\n",
    "\n",
    "df_org_ba = rcc.container_to_df(\n",
    "    f'../../Data/kme_container/{scenario}/org_ba.pt', \n",
    "    'multi_base', \n",
    "    return_unique=False,\n",
    ")\n",
    "df_org_tr = rcc.container_to_df(\n",
    "    f'../../Data/kme_container/{scenario}/org_tr.pt',\n",
    "    'multi_8node', \n",
    "    return_unique=True,\n",
    ")\n",
    "df_org_va = rcc.container_to_df(\n",
    "    f'../../Data/kme_container/{scenario}/org_va.pt',\n",
    "    'multi_8node', \n",
    "    return_unique=True,\n",
    ")\n",
    "df_org_te = rcc.container_to_df(\n",
    "    f'../../Data/kme_container/{scenario}/org_te.pt',\n",
    "    'multi_8node', \n",
    "    return_unique=True,\n",
    ")\n",
    "df_sim_tr = rcc.container_to_df(\n",
    "    f'../../Data/kme_container/{scenario}/sim_tr.pt',\n",
    "    'multi_8node', \n",
    "    return_unique=True,\n",
    ")\n",
    "\n",
    "df_tr = pd.concat([df_org_ba, df_sim_tr], axis=0)\n",
    "df_va = df_org_va\n",
    "df_te = df_org_te\n",
    "\n",
    "x_tr, y_tr = df_tr.values[:, 2:], df_tr.values[:, 1]\n",
    "x_va, y_va = df_va.values[:, 2:], df_va.values[:, 1]\n",
    "x_te, y_te = df_te.values[:, 2:], df_te.values[:, 1]\n",
    "\n",
    "x_tr, y_tr = th.tensor(x_tr), th.tensor(y_tr)\n",
    "x_va, y_va = th.tensor(x_va), th.tensor(y_va)\n",
    "x_te, y_te = th.tensor(x_te), th.tensor(y_te)\n",
    "\n",
    "y_tr = y_tr.type(th.int64).apply_(lambda v: convert_dict.get(v))\n",
    "y_va = y_va.type(th.int64).apply_(lambda v: convert_dict.get(v))\n",
    "y_te = y_te.type(th.int64).apply_(lambda v: convert_dict.get(v))"
   ]
  },
  {
   "cell_type": "markdown",
   "id": "5824c224",
   "metadata": {},
   "source": [
    "### Train and Test CLF on KME Datasets\n",
    "\n",
    "- data_tr = sim_tr + sim_tr\n",
    "- data_va = org_va\n",
    "- data_te = org_te"
   ]
  },
  {
   "cell_type": "code",
   "execution_count": 10,
   "id": "a78d387e",
   "metadata": {},
   "outputs": [],
   "source": [
    "clf = MLPClassifier(\n",
    "    hidden_layer_sizes=(150,100),  \n",
    "    activation='tanh',\n",
    "    solver='adam', \n",
    "    learning_rate_init=1e-4,\n",
    "    validation_fraction=0.2, \n",
    "    #alpha=1e-2,\n",
    "    #batch_size = 50,\n",
    "    n_iter_no_change=20,\n",
    "    early_stopping=True,\n",
    "    max_iter=1000000,\n",
    "    verbose=1,\n",
    ").fit(x_tr, y_tr)\n",
    "uFun.object_saver(clf, f'../../Models/{scenario}/causal_classifier')"
   ]
  },
  {
   "cell_type": "code",
   "execution_count": 31,
   "id": "0742da3e",
   "metadata": {},
   "outputs": [
    {
     "name": "stdout",
     "output_type": "stream",
     "text": [
      "[[0.753 0.127 0.12 ]\n",
      " [0.113 0.783 0.104]\n",
      " [0.117 0.076 0.807]]\n"
     ]
    }
   ],
   "source": [
    "clf = uFun.object_loader(f'../../Models/{scenario}/causal_classifier')\n",
    "y_true = y_te.numpy()\n",
    "y_pred = th.tensor(clf.predict(x_te)).apply_(lambda v: convert_dict.get(v))\n",
    "confusion = confusion_matrix(y_true, y_pred, labels=[2, 1, 0], normalize='true')\n",
    "print(confusion)"
   ]
  },
  {
   "cell_type": "markdown",
   "id": "0f8c0969",
   "metadata": {},
   "source": [
    "### Visualize Performance"
   ]
  },
  {
   "cell_type": "code",
   "execution_count": 32,
   "id": "fa26916f",
   "metadata": {},
   "outputs": [
    {
     "data": {
      "image/png": "[encoded data removed]",
      "text/plain": [
       "<Figure size 400x400 with 1 Axes>"
      ]
     },
     "metadata": {},
     "output_type": "display_data"
    }
   ],
   "source": [
    "sns.set_style(\"dark\")\n",
    "fig, ax = plt.subplots(nrows=1, ncols=1, figsize=(4, 4), tight_layout=True)\n",
    "uFun.plot_confusion(ax, confusion, [0, 1, 2,], fontsize=None)\n",
    "plt.show()\n",
    "plt.close()"
   ]
  },
  {
   "cell_type": "code",
   "execution_count": null,
   "id": "9516251d",
   "metadata": {},
   "outputs": [],
   "source": []
  }
 ],
 "metadata": {
  "kernelspec": {
   "display_name": "Python 3 (ipykernel)",
   "language": "python",
   "name": "python3"
  },
  "language_info": {
   "codemirror_mode": {
    "name": "ipython",
    "version": 3
   },
   "file_extension": ".py",
   "mimetype": "text/x-python",
   "name": "python",
   "nbconvert_exporter": "python",
   "pygments_lexer": "ipython3",
   "version": "3.9.13"
  }
 },
 "nbformat": 4,
 "nbformat_minor": 5
}
